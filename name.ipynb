{
 "cells": [
  {
   "cell_type": "code",
   "execution_count": 1,
   "id": "3b9c4f11",
   "metadata": {},
   "outputs": [],
   "source": [
    "from typing import Optional\n",
    "from dataclasses import dataclass,field"
   ]
  },
  {
   "cell_type": "code",
   "execution_count": 2,
   "id": "6adbc0cf",
   "metadata": {},
   "outputs": [
    {
     "name": "stdout",
     "output_type": "stream",
     "text": [
      "===GOOD DATACLASS EXAMPLE===\n"
     ]
    },
    {
     "ename": "TypeError",
     "evalue": "unhashable type: 'Person'",
     "output_type": "error",
     "traceback": [
      "\u001b[1;31m---------------------------------------------------------------------------\u001b[0m",
      "\u001b[1;31mTypeError\u001b[0m                                 Traceback (most recent call last)",
      "Cell \u001b[1;32mIn[2], line 29\u001b[0m\n\u001b[0;32m     26\u001b[0m \u001b[38;5;28;01mif\u001b[39;00m \u001b[38;5;18m__name__\u001b[39m \u001b[38;5;241m==\u001b[39m \u001b[38;5;124m\"\u001b[39m\u001b[38;5;124m__main__\u001b[39m\u001b[38;5;124m\"\u001b[39m:\n\u001b[0;32m     27\u001b[0m     \u001b[38;5;28mprint\u001b[39m(\u001b[38;5;124m\"\u001b[39m\u001b[38;5;124m===GOOD DATACLASS EXAMPLE===\u001b[39m\u001b[38;5;124m\"\u001b[39m)\n\u001b[1;32m---> 29\u001b[0m     demo_good_usage()\n",
      "Cell \u001b[1;32mIn[2], line 19\u001b[0m, in \u001b[0;36mdemo_good_usage\u001b[1;34m()\u001b[0m\n\u001b[0;32m     15\u001b[0m person3 \u001b[38;5;241m=\u001b[39m Person(name\u001b[38;5;241m=\u001b[39m\u001b[38;5;124m\"\u001b[39m\u001b[38;5;124mHasan\u001b[39m\u001b[38;5;124m\"\u001b[39m ,age\u001b[38;5;241m=\u001b[39m\u001b[38;5;241m18\u001b[39m, tags\u001b[38;5;241m=\u001b[39m[\u001b[38;5;124m\"\u001b[39m\u001b[38;5;124mstudent\u001b[39m\u001b[38;5;124m\"\u001b[39m, \u001b[38;5;124m\"\u001b[39m\u001b[38;5;124mpart time\u001b[39m\u001b[38;5;124m\"\u001b[39m])\n\u001b[0;32m     17\u001b[0m person1\u001b[38;5;241m.\u001b[39mtags\u001b[38;5;241m.\u001b[39mappend(\u001b[38;5;124m\"\u001b[39m\u001b[38;5;124mDeveloper\u001b[39m\u001b[38;5;124m\"\u001b[39m)\n\u001b[1;32m---> 19\u001b[0m \u001b[38;5;28mprint\u001b[39m(\u001b[38;5;124mf\u001b[39m\u001b[38;5;124m\"\u001b[39m\u001b[38;5;124mPerson1 :\u001b[39m\u001b[38;5;124m\"\u001b[39m,{person1})\n\u001b[0;32m     20\u001b[0m \u001b[38;5;28mprint\u001b[39m(\u001b[38;5;124mf\u001b[39m\u001b[38;5;124m\"\u001b[39m\u001b[38;5;124mPerson2 :\u001b[39m\u001b[38;5;124m\"\u001b[39m,{person2})\n\u001b[0;32m     21\u001b[0m \u001b[38;5;28mprint\u001b[39m(\u001b[38;5;124mf\u001b[39m\u001b[38;5;124m\"\u001b[39m\u001b[38;5;124mPerson3 :\u001b[39m\u001b[38;5;124m\"\u001b[39m,{person3})\n",
      "\u001b[1;31mTypeError\u001b[0m: unhashable type: 'Person'"
     ]
    }
   ],
   "source": [
    "@dataclass\n",
    "class Person:\n",
    "    name: str\n",
    "    age: int\n",
    "    email:Optional[str] = None # or str | None =None\n",
    "    tags: list[str] = field(default_factory=list)#Also we can assign [] but it allocates position with tags and in assigning with 2 variables it will saved both for 2nd var\n",
    "\n",
    "    def is_adult(self)->bool:\n",
    "        \"\"\"Method that uses the dataclass attributes.\"\"\"\n",
    "        return self.age >= 18\n",
    "    \n",
    "def demo_good_usage():\n",
    "    person1 = Person(name=\"Ali\" ,age=18)\n",
    "    person2 = Person(name=\"Hussain\" ,age=18, email=\"ali@gmail.com\")\n",
    "    person3 = Person(name=\"Hasan\" ,age=18, tags=[\"student\", \"part time\"])\n",
    "    \n",
    "    person1.tags.append(\"Developer\")\n",
    "\n",
    "    print(f\"Person1 :\",{person1})\n",
    "    print(f\"Person2 :\",{person2})\n",
    "    print(f\"Person3 :\",{person3})\n",
    "\n",
    "    print(f\"{person1.name} is adult? {person1.is_adult()}\")\n",
    "    print(f\"{person2} is adult? {person2.is_adult()}\")\n",
    "    \n",
    "if __name__ == \"__main__\":\n",
    "    print(\"===GOOD DATACLASS EXAMPLE===\")\n",
    "    \n",
    "    demo_good_usage()"
   ]
  },
  {
   "cell_type": "code",
   "execution_count": null,
   "id": "4e781399",
   "metadata": {},
   "outputs": [],
   "source": [
    "class PersonBad:\n",
    "    def __init__(self,name:str ,age:int, email:None, tags):\n",
    "        self.name=name\n",
    "        self.age=age \n",
    "        self.email=email\n",
    "        #Common mistake :mutuable default\n",
    "        self.tags = tags if tags is not None else []\n",
    "\n",
    "    #Have to manually default isstring representation\n",
    "    def __repr__(self):\n",
    "        return f\"PersonBad(name={self.name}, age={self.age}, email={self.email}, tags={self.tags})\"\n",
    "    \n",
    "    #Have to manually define equality\n",
    "    def __eq__(self, othee):\n",
    "        if not isinstance(othee,PersonBad):\n",
    "            return False\n",
    "        return (self.name ==othee.name and\n",
    "                self.age ==othee.age and\n",
    "                self.email ==othee.email and\n",
    "                self.tags ==othee.tags )\n",
    "    \n",
    "def demo_bad_usage():\n",
    "    person1=Person(\"Ali\", 17, \"ali@gmail.com\")\n",
    "    person2=Person(\"Zaid\", 12)\n",
    "\n",
    "    print(\"Person1 :\",person1)\n",
    "    print(\"Person2 :\",person2)\n",
    "\n",
    "if __name__ == \"__main__\":\n",
    "    print(\"===GOOD DATACLASS EXAMPLE===\")  \n",
    "    demo_good_usage()\n",
    "\n",
    "if __name__ == \"__main__\":\n",
    "    print(\"===BAD CLASS EXAMPLE===\")\n",
    "    demo_bad_usage()"
   ]
  },
  {
   "cell_type": "code",
   "execution_count": null,
   "id": "2b90674a",
   "metadata": {},
   "outputs": [],
   "source": [
    "class PersonBad:\n",
    "    def __init__(self,name:str ,age:int, email:None, tags):\n",
    "        self.name=name\n",
    "        self.age=age \n",
    "        self.email=email\n",
    "        #Common mistake :mutuable default\n",
    "        self.tags = tags if tags is not None else []\n",
    "\n",
    "    #Have to manually default isstring representation\n",
    "    def __repr__(self):\n",
    "        return f\"PersonBad(name={self.name}, age={self.age}, email={self.email}, tags={self.tags})\"\n",
    "    \n",
    "    #Have to manually define equality\n",
    "    def __eq__(self, othee):\n",
    "        if not isinstance(othee,PersonBad):\n",
    "            return False\n",
    "        return (self.name ==othee.name and\n",
    "                self.age ==othee.age and\n",
    "                self.email ==othee.email and\n",
    "                self.tags ==othee.tags )\n",
    "    \n",
    "def demo_bad_usage():\n",
    "    person1=Person(\"Ali\", 17, \"ali@gmail.com\")\n",
    "    person2=Person(\"Zaid\", 12)\n",
    "\n",
    "    print(\"Person1 :\",person1)\n",
    "    print(\"Person2 :\",person2)\n",
    "\n",
    "if __name__ == \"__main__\":\n",
    "    print(\"===BAD CLASS EXAMPLE===\")\n",
    "    demo_bad_usage()"
   ]
  },
  {
   "cell_type": "markdown",
   "id": "f891251e",
   "metadata": {},
   "source": [
    "### The Openai documentation was generated using a combination of open source tools notably Griffy and Mkdocs"
   ]
  },
  {
   "cell_type": "markdown",
   "id": "3e39459f",
   "metadata": {},
   "source": [
    "# Callables"
   ]
  },
  {
   "cell_type": "code",
   "execution_count": null,
   "id": "aef33d95",
   "metadata": {},
   "outputs": [],
   "source": [
    "from typing import Callable\n",
    "\n",
    "#Callable that takes two int as input and returns str output \n",
    "MyFuncType = Callable[[int,int],str]\n",
    "\n",
    "print(MyFuncType)\n",
    "\n",
    "from dataclasses import dataclass"
   ]
  },
  {
   "cell_type": "code",
   "execution_count": null,
   "id": "b98a73b0",
   "metadata": {},
   "outputs": [],
   "source": [
    "#Usage\n",
    "@dataclass\n",
    "class Calculator:\n",
    "    operation: Callable[[int,int],str]\n",
    "\n",
    "    # def calculate(self, a:int, b:int)->str:\n",
    "    #     return self.operation(a,b)\n",
    "\n",
    "    def __call__(self, a:int, b:int)->str:\n",
    "        return self.operation(a,b)\n",
    "    "
   ]
  },
  {
   "cell_type": "code",
   "execution_count": null,
   "id": "5a1974c9",
   "metadata": {},
   "outputs": [],
   "source": [
    "def add_and_string(x:int , y:int)->str:\n",
    "    return str(x+y)\n",
    "\n",
    "calc = Calculator(operation=add_and_string)\n",
    "# print(calc.calculate(2,3))\n",
    "print(calc(2,3)) #Become Callable"
   ]
  }
 ],
 "metadata": {
  "kernelspec": {
   "display_name": "base",
   "language": "python",
   "name": "python3"
  },
  "language_info": {
   "codemirror_mode": {
    "name": "ipython",
    "version": 3
   },
   "file_extension": ".py",
   "mimetype": "text/x-python",
   "name": "python",
   "nbconvert_exporter": "python",
   "pygments_lexer": "ipython3",
   "version": "3.12.7"
  }
 },
 "nbformat": 4,
 "nbformat_minor": 5
}
